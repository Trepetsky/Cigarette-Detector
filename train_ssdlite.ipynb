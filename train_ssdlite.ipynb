{
 "cells": [
  {
   "cell_type": "code",
   "execution_count": 1,
   "metadata": {},
   "outputs": [],
   "source": [
    "#from IPython.display import clear_output as clr\n",
    "#!wget https://universe.roboflow.com/...\n",
    "#!unzip ...\n",
    "#!mkdir train_xml\n",
    "#!mkdir valid_xml\n",
    "#!mv train/*.xml train_xml/\n",
    "#!mv valid/*.xml valid_xml/\n",
    "#clr()"
   ]
  },
  {
   "cell_type": "code",
   "execution_count": 2,
   "metadata": {
    "id": "T1N-Qc-SVBEd",
    "tags": []
   },
   "outputs": [],
   "source": [
    "import os\n",
    "import random\n",
    "import numpy as np\n",
    "from tqdm import tqdm\n",
    "import matplotlib.pyplot as plt\n",
    "from collections import defaultdict\n",
    "import torch\n",
    "import albumentations as A\n",
    "from albumentations.pytorch.transforms import ToTensorV2\n",
    "from torchvision import utils\n",
    "import torch.utils.data\n",
    "import torchvision\n",
    "from torchvision.models.detection import SSDLite320_MobileNet_V3_Large_Weights\n",
    "from PIL import Image\n",
    "import xml.etree.ElementTree as ET\n",
    "from torchvision.models.detection.faster_rcnn import FastRCNNPredictor\n",
    "from torchvision.models.detection import fasterrcnn_resnet50_fpn\n",
    "from torchvision.transforms import functional as F\n",
    "import torchvision.transforms as T\n",
    "from sklearn.metrics import precision_recall_curve, auc\n",
    "from torch.utils.tensorboard import SummaryWriter"
   ]
  },
  {
   "cell_type": "code",
   "execution_count": 3,
   "metadata": {
    "tags": []
   },
   "outputs": [],
   "source": [
    "random.seed(1)\n",
    "os.environ['PYTHONHASHSEED'] = str(1)\n",
    "np.random.seed(1)\n",
    "torch.manual_seed(1)\n",
    "torch.cuda.manual_seed(1)\n",
    "torch.cuda.manual_seed_all(1)\n",
    "torch.backends.cudnn.deterministic = True\n",
    "torch.backends.cudnn.benchmark = False"
   ]
  },
  {
   "cell_type": "code",
   "execution_count": 4,
   "metadata": {
    "colab": {
     "base_uri": "https://localhost:8080/"
    },
    "id": "kLNBiDo7Q_vq",
    "outputId": "68631e90-a366-4998-d88d-b4ade17708d4",
    "tags": []
   },
   "outputs": [
    {
     "data": {
      "text/plain": [
       "(5058, 5058)"
      ]
     },
     "execution_count": 4,
     "metadata": {},
     "output_type": "execute_result"
    }
   ],
   "source": [
    "len(os.listdir('train')), len(os.listdir('train_xml'))"
   ]
  },
  {
   "cell_type": "code",
   "execution_count": 5,
   "metadata": {
    "id": "mkyugQ-1WrBb",
    "tags": []
   },
   "outputs": [],
   "source": [
    "class CigaretteDataset(torch.utils.data.Dataset):\n",
    "    def __init__(self, transforms, img_dir, annot_dir, img_list, annot_list):\n",
    "        self.transforms = transforms\n",
    "        self.img_dir = img_dir\n",
    "        self.annot_dir = annot_dir\n",
    "        self.img_list = img_list\n",
    "        self.annot_list = annot_list\n",
    "\n",
    "    def __getitem__(self, idx):\n",
    "        img_path = os.path.join(self.img_dir, self.img_list[idx])\n",
    "        annot_path = os.path.join(self.annot_dir, self.annot_list[idx])\n",
    "        img = Image.open(img_path).convert(\"RGB\")\n",
    "        width, height = img.size\n",
    "        img = np.array(img)\n",
    "        tree = ET.parse(annot_path)\n",
    "        root = tree.getroot()\n",
    "\n",
    "        boxes = []\n",
    "        labels = []\n",
    "        for member in root.findall('object'):\n",
    "            labels.append(int(member[0].text == \"cigarette\") + 1)\n",
    "            bbox = member.find('bndbox')\n",
    "            xmin = int(bbox.find('xmin').text)\n",
    "            ymin = int(bbox.find('ymin').text)\n",
    "            xmax = int(bbox.find('xmax').text)\n",
    "            ymax = int(bbox.find('ymax').text)\n",
    "\n",
    "            xmin = xmin / width\n",
    "            ymin = ymin / height\n",
    "            xmax = xmax / width\n",
    "            ymax = ymax / height\n",
    "\n",
    "            xmin = max(0, xmin)\n",
    "            ymin = max(0, ymin)\n",
    "            xmax = min(1, xmax)\n",
    "            ymax = min(1, ymax)\n",
    "\n",
    "            boxes.append([xmin, ymin, xmax, ymax])\n",
    "\n",
    "\n",
    "        labels = torch.as_tensor(labels, dtype=torch.int64)\n",
    "        image_id = torch.tensor([idx])\n",
    "\n",
    "        target = {}\n",
    "        target[\"labels\"] = labels\n",
    "        target[\"image_id\"] = image_id\n",
    "\n",
    "        if self.transforms is not None:\n",
    "            transformed = self.transforms(image=img, bboxes=boxes, labels=labels)\n",
    "            img = transformed['image']\n",
    "            boxes = transformed['bboxes']\n",
    "        \n",
    "        boxes = [[x1*512, y1*512, x2*512, y2*512] for (x1, y1, x2, y2) in boxes]\n",
    "        \n",
    "        if len(boxes) == 0:\n",
    "            target[\"boxes\"] = torch.zeros((0,4), dtype=torch.float32)\n",
    "        else:\n",
    "            target[\"boxes\"] = torch.as_tensor(boxes, dtype=torch.float32)\n",
    "\n",
    "        return img, target\n",
    "\n",
    "\n",
    "\n",
    "    def __len__(self):\n",
    "        return len(self.img_list)\n",
    "\n",
    "\n",
    "def collate_fn(batch):\n",
    "    return tuple(zip(*batch))\n",
    "\n",
    "def train_transform():\n",
    "    transform = A.Compose([\n",
    "    A.Resize(512, 512, always_apply=True),\n",
    "    A.HorizontalFlip(p=0.5),\n",
    "    A.VerticalFlip(p=0.5),\n",
    "    A.RandomRotate90(p=0.5),\n",
    "    A.ShiftScaleRotate(shift_limit=0.0625, scale_limit=0.2, rotate_limit=15, p=0.5, border_mode=0),\n",
    "    A.RandomBrightnessContrast(p=0.2),\n",
    "    A.RGBShift(r_shift_limit=15, g_shift_limit=15, b_shift_limit=15, p=0.5),\n",
    "    A.GaussNoise(p=0.5),\n",
    "    A.Normalize(mean=(0.485, 0.456, 0.406), std=(0.229, 0.224, 0.225)),\n",
    "    ToTensorV2()\n",
    "    ], bbox_params=A.BboxParams(format='albumentations', label_fields=['labels'], check_each_transform=True))\n",
    "    return transform\n",
    "\n",
    "def val_transform():\n",
    "    transform = A.Compose([\n",
    "    A.Resize(512, 512, always_apply=True),\n",
    "    A.Normalize(mean=(0.485, 0.456, 0.406), std=(0.229, 0.224, 0.225)),\n",
    "    ToTensorV2()\n",
    "    ], bbox_params=A.BboxParams(format='albumentations', label_fields=['labels'], check_each_transform=True))\n",
    "    return transform"
   ]
  },
  {
   "cell_type": "code",
   "execution_count": 6,
   "metadata": {
    "id": "hFWBNvRFUCjz",
    "tags": []
   },
   "outputs": [],
   "source": [
    "class MetricMonitor:\n",
    "    def __init__(self, float_precision=3):\n",
    "        self.float_precision = float_precision\n",
    "        self.history = defaultdict(lambda: {\"train\": [], \"val\": []})\n",
    "        self.reset()\n",
    "\n",
    "    def reset(self):\n",
    "        self.metrics = defaultdict(lambda: {\"val\": 0, \"count\": 0, \"avg\": 0})\n",
    "\n",
    "    def update(self, metric_name, val):\n",
    "        metric = self.metrics[metric_name]\n",
    "\n",
    "        metric[\"val\"] += val\n",
    "        metric[\"count\"] += 1\n",
    "        metric[\"avg\"] = metric[\"val\"] / metric[\"count\"]\n",
    "\n",
    "    def __str__(self):\n",
    "        return \" | \".join(\n",
    "            [\n",
    "                \"{metric_name}: {avg:.{float_precision}f}\".format(\n",
    "                    metric_name=metric_name, avg=metric[\"avg\"], float_precision=self.float_precision\n",
    "                )\n",
    "                for (metric_name, metric) in self.metrics.items()\n",
    "            ]\n",
    "        )\n",
    "    def store(self, phase):\n",
    "        for metric_name, metric in self.metrics.items():\n",
    "            self.history[metric_name][phase].append(metric[\"avg\"].item())"
   ]
  },
  {
   "cell_type": "code",
   "execution_count": 7,
   "metadata": {
    "id": "VGH-p7LRYXaS",
    "tags": []
   },
   "outputs": [],
   "source": [
    "def get_model(num_classes):\n",
    "    model = torchvision.models.detection.ssdlite320_mobilenet_v3_large(weights=SSDLite320_MobileNet_V3_Large_Weights.DEFAULT)\n",
    "    num_anchors = model.head.classification_head.module_list[0][1].out_channels // 91  # original num_classes for COCO\n",
    "\n",
    "    for i in range(len(model.head.classification_head.module_list)):\n",
    "        conv_layer = model.head.classification_head.module_list[i][1]\n",
    "        conv_layer.out_channels = num_anchors * num_classes\n",
    "        model.head.classification_head.module_list[i][1] = conv_layer\n",
    "\n",
    "    return model\n",
    "\n",
    "\n",
    "def train_one_epoch(model, optimizer, dataloader, device):\n",
    "    model.train()\n",
    "    monitor.reset()\n",
    "    progress_bar = tqdm(dataloader, total=len(dataloader))\n",
    "    for images, targets in progress_bar:\n",
    "        images = list(image.to(device) for image in images)\n",
    "        targets = [{k: v.to(device) for k, v in t.items()} for t in targets]\n",
    "\n",
    "        loss_dict = model(images, targets)\n",
    "        loss = sum(loss for loss in loss_dict.values())\n",
    "\n",
    "        loss.backward()\n",
    "\n",
    "        optimizer.step()\n",
    "        optimizer.zero_grad()\n",
    "\n",
    "        monitor.update('Loss', loss)\n",
    "        progress_bar.set_description(str(monitor))\n",
    "\n",
    "\n",
    "def evaluate(model, dataloader, device):\n",
    "    model.eval()\n",
    "    monitor.reset()\n",
    "    progress_bar = tqdm(dataloader, total=len(dataloader))\n",
    "    iou_values = []\n",
    "\n",
    "    with torch.no_grad():\n",
    "        for images, targets in progress_bar:\n",
    "            images = list(image.to(device) for image in images)\n",
    "            targets = [{k: v.to(device) for k, v in t.items()} for t in targets]\n",
    "\n",
    "            preds = model(images)\n",
    "            \n",
    "            for pred, target in zip(preds, targets):\n",
    "                pred_boxes = pred['boxes'].tolist()\n",
    "                target_boxes = target['boxes'].tolist()\n",
    "                for box1, box2 in zip(pred_boxes, target_boxes):\n",
    "                    iou_values.append(bbox_iou(box1, box2))\n",
    "            \n",
    "            avg_iou = np.mean(iou_values)\n",
    "\n",
    "            monitor.update('Val IoU', avg_iou)\n",
    "            progress_bar.set_description(str(monitor))"
   ]
  },
  {
   "cell_type": "code",
   "execution_count": 8,
   "metadata": {
    "id": "rhYAnToOYqRN",
    "tags": []
   },
   "outputs": [],
   "source": [
    "def bbox_iou(box1, box2, eps=1e-7):\n",
    "    b1_x1, b1_y1, b1_x2, b1_y2 = box1\n",
    "    b2_x1, b2_y1, b2_x2, b2_y2 = box2\n",
    "\n",
    "    inter_x1 = max(b1_x1, b2_x1)\n",
    "    inter_y1 = max(b1_y1, b2_y1)\n",
    "    inter_x2 = min(b1_x2, b2_x2)\n",
    "    inter_y2 = min(b1_y2, b2_y2)\n",
    "\n",
    "    inter_area = max(inter_x2 - inter_x1 + 1, 0) * max(inter_y2 - inter_y1 + 1, 0)\n",
    "\n",
    "    b1_area = (b1_x2 - b1_x1 + 1) * (b1_y2 - b1_y1 + 1)\n",
    "    b2_area = (b2_x2 - b2_x1 + 1) * (b2_y2 - b2_y1 + 1)\n",
    "\n",
    "    iou = inter_area / (b1_area + b2_area - inter_area + eps)\n",
    "\n",
    "    return iou"
   ]
  },
  {
   "cell_type": "code",
   "execution_count": 9,
   "metadata": {
    "colab": {
     "base_uri": "https://localhost:8080/"
    },
    "id": "1pki9yfqN_5R",
    "outputId": "6e1ae88c-806c-4059-d7c0-b98a4872ee97",
    "tags": []
   },
   "outputs": [],
   "source": [
    "device = torch.device('cuda') if torch.cuda.is_available() else torch.device('cpu')\n",
    "\n",
    "num_classes = 2\n",
    "\n",
    "model = get_model(num_classes)\n",
    "model.to(device)\n",
    "\n",
    "train_img_dir = 'train'\n",
    "train_annot_dir = 'train_xml'\n",
    "valid_img_dir = 'valid'\n",
    "valid_annot_dir = 'valid_xml'\n",
    "\n",
    "train_img_list = list(sorted(os.listdir(train_img_dir)))\n",
    "train_annot_list = list(sorted(os.listdir(train_annot_dir)))\n",
    "val_img_list = list(sorted(os.listdir(valid_img_dir)))\n",
    "val_annot_list = list(sorted(os.listdir(valid_annot_dir)))\n",
    "\n",
    "train_data = CigaretteDataset(train_transform(),\n",
    "    train_img_dir, train_annot_dir, train_img_list, train_annot_list)\n",
    "val_data = CigaretteDataset(val_transform(), valid_img_dir, valid_annot_dir, val_img_list, val_annot_list)\n",
    "\n",
    "train_loader = torch.utils.data.DataLoader(\n",
    "    train_data, batch_size=64, shuffle=True, num_workers=4,\n",
    "    collate_fn=collate_fn)\n",
    "\n",
    "val_loader = torch.utils.data.DataLoader(\n",
    "    val_data, batch_size=64, shuffle=False, num_workers=4,\n",
    "    collate_fn=collate_fn)"
   ]
  },
  {
   "cell_type": "code",
   "execution_count": 10,
   "metadata": {
    "colab": {
     "base_uri": "https://localhost:8080/"
    },
    "id": "ZYgphI_dVMTM",
    "outputId": "5dbe83f7-4172-47d7-e854-2fe8561678b0",
    "tags": []
   },
   "outputs": [
    {
     "name": "stdout",
     "output_type": "stream",
     "text": [
      "Epoch 1:\n"
     ]
    },
    {
     "name": "stderr",
     "output_type": "stream",
     "text": [
      "Loss: 4.58936: 100%|██████████| 80/80 [00:42<00:00,  1.90it/s]\n",
      "Val IoU: 0.18515: 100%|██████████| 3/3 [00:04<00:00,  1.55s/it]\n"
     ]
    },
    {
     "name": "stdout",
     "output_type": "stream",
     "text": [
      "Epoch 2:\n"
     ]
    },
    {
     "name": "stderr",
     "output_type": "stream",
     "text": [
      "Loss: 3.48661: 100%|██████████| 80/80 [00:38<00:00,  2.06it/s]\n",
      "Val IoU: 0.20716: 100%|██████████| 3/3 [00:04<00:00,  1.57s/it]\n"
     ]
    },
    {
     "name": "stdout",
     "output_type": "stream",
     "text": [
      "Epoch 3:\n"
     ]
    },
    {
     "name": "stderr",
     "output_type": "stream",
     "text": [
      "Loss: 3.31656: 100%|██████████| 80/80 [00:40<00:00,  1.98it/s]\n",
      "Val IoU: 0.19187: 100%|██████████| 3/3 [00:04<00:00,  1.53s/it]\n"
     ]
    },
    {
     "name": "stdout",
     "output_type": "stream",
     "text": [
      "Epoch 4:\n"
     ]
    },
    {
     "name": "stderr",
     "output_type": "stream",
     "text": [
      "Loss: 3.17441: 100%|██████████| 80/80 [00:40<00:00,  1.97it/s]\n",
      "Val IoU: 0.20068: 100%|██████████| 3/3 [00:04<00:00,  1.39s/it]\n"
     ]
    },
    {
     "name": "stdout",
     "output_type": "stream",
     "text": [
      "Epoch 5:\n"
     ]
    },
    {
     "name": "stderr",
     "output_type": "stream",
     "text": [
      "Loss: 3.07700: 100%|██████████| 80/80 [00:39<00:00,  2.02it/s]\n",
      "Val IoU: 0.21079: 100%|██████████| 3/3 [00:04<00:00,  1.39s/it]\n"
     ]
    },
    {
     "name": "stdout",
     "output_type": "stream",
     "text": [
      "Epoch 6:\n"
     ]
    },
    {
     "name": "stderr",
     "output_type": "stream",
     "text": [
      "Loss: 2.98666: 100%|██████████| 80/80 [00:39<00:00,  2.04it/s]\n",
      "Val IoU: 0.23104: 100%|██████████| 3/3 [00:03<00:00,  1.33s/it]\n"
     ]
    },
    {
     "name": "stdout",
     "output_type": "stream",
     "text": [
      "Epoch 7:\n"
     ]
    },
    {
     "name": "stderr",
     "output_type": "stream",
     "text": [
      "Loss: 2.92772: 100%|██████████| 80/80 [00:40<00:00,  1.99it/s]\n",
      "Val IoU: 0.22930: 100%|██████████| 3/3 [00:03<00:00,  1.25s/it]\n"
     ]
    },
    {
     "name": "stdout",
     "output_type": "stream",
     "text": [
      "Epoch 8:\n"
     ]
    },
    {
     "name": "stderr",
     "output_type": "stream",
     "text": [
      "Loss: 2.85653: 100%|██████████| 80/80 [00:40<00:00,  1.99it/s]\n",
      "Val IoU: 0.23804: 100%|██████████| 3/3 [00:03<00:00,  1.20s/it]\n"
     ]
    },
    {
     "name": "stdout",
     "output_type": "stream",
     "text": [
      "Epoch 9:\n"
     ]
    },
    {
     "name": "stderr",
     "output_type": "stream",
     "text": [
      "Loss: 2.79521: 100%|██████████| 80/80 [00:39<00:00,  2.04it/s]\n",
      "Val IoU: 0.24048: 100%|██████████| 3/3 [00:03<00:00,  1.17s/it]\n"
     ]
    },
    {
     "name": "stdout",
     "output_type": "stream",
     "text": [
      "Epoch 10:\n"
     ]
    },
    {
     "name": "stderr",
     "output_type": "stream",
     "text": [
      "Loss: 2.75465: 100%|██████████| 80/80 [00:39<00:00,  2.03it/s]\n",
      "Val IoU: 0.22276: 100%|██████████| 3/3 [00:03<00:00,  1.13s/it]\n"
     ]
    },
    {
     "name": "stdout",
     "output_type": "stream",
     "text": [
      "Epoch 11:\n"
     ]
    },
    {
     "name": "stderr",
     "output_type": "stream",
     "text": [
      "Loss: 2.73188: 100%|██████████| 80/80 [00:39<00:00,  2.00it/s]\n",
      "Val IoU: 0.23043: 100%|██████████| 3/3 [00:03<00:00,  1.08s/it]\n"
     ]
    },
    {
     "name": "stdout",
     "output_type": "stream",
     "text": [
      "Epoch 12:\n"
     ]
    },
    {
     "name": "stderr",
     "output_type": "stream",
     "text": [
      "Loss: 2.63992: 100%|██████████| 80/80 [00:39<00:00,  2.02it/s]\n",
      "Val IoU: 0.22516: 100%|██████████| 3/3 [00:03<00:00,  1.02s/it]\n"
     ]
    },
    {
     "name": "stdout",
     "output_type": "stream",
     "text": [
      "Epoch 13:\n"
     ]
    },
    {
     "name": "stderr",
     "output_type": "stream",
     "text": [
      "Loss: 2.62508: 100%|██████████| 80/80 [00:40<00:00,  1.99it/s]\n",
      "Val IoU: 0.24078: 100%|██████████| 3/3 [00:03<00:00,  1.00s/it]\n"
     ]
    },
    {
     "name": "stdout",
     "output_type": "stream",
     "text": [
      "Epoch 14:\n"
     ]
    },
    {
     "name": "stderr",
     "output_type": "stream",
     "text": [
      "Loss: 2.58704: 100%|██████████| 80/80 [00:40<00:00,  2.00it/s]\n",
      "Val IoU: 0.23069: 100%|██████████| 3/3 [00:02<00:00,  1.02it/s]\n"
     ]
    },
    {
     "name": "stdout",
     "output_type": "stream",
     "text": [
      "Epoch 15:\n"
     ]
    },
    {
     "name": "stderr",
     "output_type": "stream",
     "text": [
      "Loss: 2.55985: 100%|██████████| 80/80 [00:39<00:00,  2.05it/s]\n",
      "Val IoU: 0.24219: 100%|██████████| 3/3 [00:02<00:00,  1.08it/s]\n"
     ]
    },
    {
     "name": "stdout",
     "output_type": "stream",
     "text": [
      "Epoch 16:\n"
     ]
    },
    {
     "name": "stderr",
     "output_type": "stream",
     "text": [
      "Loss: 2.59386: 100%|██████████| 80/80 [00:38<00:00,  2.05it/s]\n",
      "Val IoU: 0.26378: 100%|██████████| 3/3 [00:02<00:00,  1.05it/s]\n"
     ]
    },
    {
     "name": "stdout",
     "output_type": "stream",
     "text": [
      "Epoch 17:\n"
     ]
    },
    {
     "name": "stderr",
     "output_type": "stream",
     "text": [
      "Loss: 2.51857: 100%|██████████| 80/80 [00:39<00:00,  2.00it/s]\n",
      "Val IoU: 0.24778: 100%|██████████| 3/3 [00:02<00:00,  1.08it/s]\n"
     ]
    },
    {
     "name": "stdout",
     "output_type": "stream",
     "text": [
      "Epoch 18:\n"
     ]
    },
    {
     "name": "stderr",
     "output_type": "stream",
     "text": [
      "Loss: 2.47866: 100%|██████████| 80/80 [00:39<00:00,  2.03it/s]\n",
      "Val IoU: 0.23517: 100%|██████████| 3/3 [00:02<00:00,  1.15it/s]\n"
     ]
    },
    {
     "name": "stdout",
     "output_type": "stream",
     "text": [
      "Epoch 19:\n"
     ]
    },
    {
     "name": "stderr",
     "output_type": "stream",
     "text": [
      "Loss: 2.44166: 100%|██████████| 80/80 [00:40<00:00,  1.98it/s]\n",
      "Val IoU: 0.25810: 100%|██████████| 3/3 [00:02<00:00,  1.09it/s]\n"
     ]
    },
    {
     "name": "stdout",
     "output_type": "stream",
     "text": [
      "Epoch 20:\n"
     ]
    },
    {
     "name": "stderr",
     "output_type": "stream",
     "text": [
      "Loss: 2.44742: 100%|██████████| 80/80 [00:39<00:00,  2.04it/s]\n",
      "Val IoU: 0.25511: 100%|██████████| 3/3 [00:02<00:00,  1.11it/s]\n"
     ]
    },
    {
     "name": "stdout",
     "output_type": "stream",
     "text": [
      "Epoch 21:\n"
     ]
    },
    {
     "name": "stderr",
     "output_type": "stream",
     "text": [
      "Loss: 2.49519: 100%|██████████| 80/80 [00:38<00:00,  2.06it/s]\n",
      "Val IoU: 0.22575: 100%|██████████| 3/3 [00:02<00:00,  1.18it/s]\n"
     ]
    },
    {
     "name": "stdout",
     "output_type": "stream",
     "text": [
      "Epoch 22:\n"
     ]
    },
    {
     "name": "stderr",
     "output_type": "stream",
     "text": [
      "Loss: 2.42924: 100%|██████████| 80/80 [00:40<00:00,  1.99it/s]\n",
      "Val IoU: 0.21565: 100%|██████████| 3/3 [00:02<00:00,  1.13it/s]\n"
     ]
    },
    {
     "name": "stdout",
     "output_type": "stream",
     "text": [
      "Epoch 23:\n"
     ]
    },
    {
     "name": "stderr",
     "output_type": "stream",
     "text": [
      "Loss: 2.38800: 100%|██████████| 80/80 [00:39<00:00,  2.03it/s]\n",
      "Val IoU: 0.24000: 100%|██████████| 3/3 [00:02<00:00,  1.20it/s]\n"
     ]
    },
    {
     "name": "stdout",
     "output_type": "stream",
     "text": [
      "Epoch 24:\n"
     ]
    },
    {
     "name": "stderr",
     "output_type": "stream",
     "text": [
      "Loss: 2.33717: 100%|██████████| 80/80 [00:39<00:00,  2.02it/s]\n",
      "Val IoU: 0.24345: 100%|██████████| 3/3 [00:02<00:00,  1.22it/s]\n"
     ]
    },
    {
     "name": "stdout",
     "output_type": "stream",
     "text": [
      "Epoch 25:\n"
     ]
    },
    {
     "name": "stderr",
     "output_type": "stream",
     "text": [
      "Loss: 2.34020: 100%|██████████| 80/80 [00:39<00:00,  2.02it/s]\n",
      "Val IoU: 0.23566: 100%|██████████| 3/3 [00:02<00:00,  1.17it/s]\n"
     ]
    },
    {
     "name": "stdout",
     "output_type": "stream",
     "text": [
      "Epoch 26:\n"
     ]
    },
    {
     "name": "stderr",
     "output_type": "stream",
     "text": [
      "Loss: 2.28981: 100%|██████████| 80/80 [00:40<00:00,  1.99it/s]\n",
      "Val IoU: 0.23639: 100%|██████████| 3/3 [00:02<00:00,  1.21it/s]\n"
     ]
    },
    {
     "name": "stdout",
     "output_type": "stream",
     "text": [
      "Epoch 27:\n"
     ]
    },
    {
     "name": "stderr",
     "output_type": "stream",
     "text": [
      "Loss: 2.32606: 100%|██████████| 80/80 [00:39<00:00,  2.00it/s]\n",
      "Val IoU: 0.24522: 100%|██████████| 3/3 [00:02<00:00,  1.15it/s]\n"
     ]
    },
    {
     "name": "stdout",
     "output_type": "stream",
     "text": [
      "Epoch 28:\n"
     ]
    },
    {
     "name": "stderr",
     "output_type": "stream",
     "text": [
      "Loss: 2.28387: 100%|██████████| 80/80 [00:39<00:00,  2.01it/s]\n",
      "Val IoU: 0.23649: 100%|██████████| 3/3 [00:02<00:00,  1.21it/s]\n"
     ]
    },
    {
     "name": "stdout",
     "output_type": "stream",
     "text": [
      "Epoch 29:\n"
     ]
    },
    {
     "name": "stderr",
     "output_type": "stream",
     "text": [
      "Loss: 2.30077: 100%|██████████| 80/80 [00:40<00:00,  1.98it/s]\n",
      "Val IoU: 0.24576: 100%|██████████| 3/3 [00:02<00:00,  1.20it/s]\n"
     ]
    },
    {
     "name": "stdout",
     "output_type": "stream",
     "text": [
      "Epoch 30:\n"
     ]
    },
    {
     "name": "stderr",
     "output_type": "stream",
     "text": [
      "Loss: 2.33019: 100%|██████████| 80/80 [00:39<00:00,  2.04it/s]\n",
      "Val IoU: 0.22702: 100%|██████████| 3/3 [00:02<00:00,  1.23it/s]\n"
     ]
    },
    {
     "name": "stdout",
     "output_type": "stream",
     "text": [
      "Epoch 31:\n"
     ]
    },
    {
     "name": "stderr",
     "output_type": "stream",
     "text": [
      "Loss: 2.27357: 100%|██████████| 80/80 [00:40<00:00,  1.99it/s]\n",
      "Val IoU: 0.23625: 100%|██████████| 3/3 [00:02<00:00,  1.13it/s]\n"
     ]
    },
    {
     "name": "stdout",
     "output_type": "stream",
     "text": [
      "Epoch 32:\n"
     ]
    },
    {
     "name": "stderr",
     "output_type": "stream",
     "text": [
      "Loss: 2.31745: 100%|██████████| 80/80 [00:39<00:00,  2.03it/s]\n",
      "Val IoU: 0.26078: 100%|██████████| 3/3 [00:02<00:00,  1.15it/s]\n"
     ]
    },
    {
     "name": "stdout",
     "output_type": "stream",
     "text": [
      "Epoch 33:\n"
     ]
    },
    {
     "name": "stderr",
     "output_type": "stream",
     "text": [
      "Loss: 2.29052: 100%|██████████| 80/80 [00:40<00:00,  1.99it/s]\n",
      "Val IoU: 0.26505: 100%|██████████| 3/3 [00:02<00:00,  1.20it/s]\n"
     ]
    },
    {
     "name": "stdout",
     "output_type": "stream",
     "text": [
      "Epoch 34:\n"
     ]
    },
    {
     "name": "stderr",
     "output_type": "stream",
     "text": [
      "Loss: 2.20881: 100%|██████████| 80/80 [00:40<00:00,  2.00it/s]\n",
      "Val IoU: 0.24871: 100%|██████████| 3/3 [00:02<00:00,  1.21it/s]\n"
     ]
    },
    {
     "name": "stdout",
     "output_type": "stream",
     "text": [
      "Epoch 35:\n"
     ]
    },
    {
     "name": "stderr",
     "output_type": "stream",
     "text": [
      "Loss: 2.19924: 100%|██████████| 80/80 [00:39<00:00,  2.04it/s]\n",
      "Val IoU: 0.25713: 100%|██████████| 3/3 [00:02<00:00,  1.25it/s]\n"
     ]
    },
    {
     "name": "stdout",
     "output_type": "stream",
     "text": [
      "Epoch 36:\n"
     ]
    },
    {
     "name": "stderr",
     "output_type": "stream",
     "text": [
      "Loss: 2.19520: 100%|██████████| 80/80 [00:39<00:00,  2.01it/s]\n",
      "Val IoU: 0.25827: 100%|██████████| 3/3 [00:02<00:00,  1.26it/s]\n"
     ]
    },
    {
     "name": "stdout",
     "output_type": "stream",
     "text": [
      "Epoch 37:\n"
     ]
    },
    {
     "name": "stderr",
     "output_type": "stream",
     "text": [
      "Loss: 2.17116: 100%|██████████| 80/80 [00:40<00:00,  1.99it/s]\n",
      "Val IoU: 0.25312: 100%|██████████| 3/3 [00:02<00:00,  1.18it/s]\n"
     ]
    },
    {
     "name": "stdout",
     "output_type": "stream",
     "text": [
      "Epoch 38:\n"
     ]
    },
    {
     "name": "stderr",
     "output_type": "stream",
     "text": [
      "Loss: 2.14114: 100%|██████████| 80/80 [00:40<00:00,  1.99it/s]\n",
      "Val IoU: 0.24894: 100%|██████████| 3/3 [00:02<00:00,  1.24it/s]\n"
     ]
    },
    {
     "name": "stdout",
     "output_type": "stream",
     "text": [
      "Epoch 39:\n"
     ]
    },
    {
     "name": "stderr",
     "output_type": "stream",
     "text": [
      "Loss: 2.16430: 100%|██████████| 80/80 [00:40<00:00,  1.99it/s]\n",
      "Val IoU: 0.25271: 100%|██████████| 3/3 [00:02<00:00,  1.24it/s]\n"
     ]
    },
    {
     "name": "stdout",
     "output_type": "stream",
     "text": [
      "Epoch 40:\n"
     ]
    },
    {
     "name": "stderr",
     "output_type": "stream",
     "text": [
      "Loss: 2.21662: 100%|██████████| 80/80 [00:39<00:00,  2.01it/s]\n",
      "Val IoU: 0.23575: 100%|██████████| 3/3 [00:02<00:00,  1.15it/s]\n"
     ]
    },
    {
     "name": "stdout",
     "output_type": "stream",
     "text": [
      "Epoch 41:\n"
     ]
    },
    {
     "name": "stderr",
     "output_type": "stream",
     "text": [
      "Loss: 2.21374: 100%|██████████| 80/80 [00:39<00:00,  2.05it/s]\n",
      "Val IoU: 0.27827: 100%|██████████| 3/3 [00:02<00:00,  1.24it/s]\n"
     ]
    },
    {
     "name": "stdout",
     "output_type": "stream",
     "text": [
      "Epoch 42:\n"
     ]
    },
    {
     "name": "stderr",
     "output_type": "stream",
     "text": [
      "Loss: 2.32194: 100%|██████████| 80/80 [00:40<00:00,  1.99it/s]\n",
      "Val IoU: 0.27276: 100%|██████████| 3/3 [00:02<00:00,  1.24it/s]\n"
     ]
    },
    {
     "name": "stdout",
     "output_type": "stream",
     "text": [
      "Epoch 43:\n"
     ]
    },
    {
     "name": "stderr",
     "output_type": "stream",
     "text": [
      "Loss: 2.20214: 100%|██████████| 80/80 [00:39<00:00,  2.01it/s]\n",
      "Val IoU: 0.27696: 100%|██████████| 3/3 [00:02<00:00,  1.30it/s]\n"
     ]
    },
    {
     "name": "stdout",
     "output_type": "stream",
     "text": [
      "Epoch 44:\n"
     ]
    },
    {
     "name": "stderr",
     "output_type": "stream",
     "text": [
      "Loss: 2.12862: 100%|██████████| 80/80 [00:41<00:00,  1.93it/s]\n",
      "Val IoU: 0.26173: 100%|██████████| 3/3 [00:02<00:00,  1.08it/s]\n"
     ]
    },
    {
     "name": "stdout",
     "output_type": "stream",
     "text": [
      "Epoch 45:\n"
     ]
    },
    {
     "name": "stderr",
     "output_type": "stream",
     "text": [
      "Loss: 2.11085: 100%|██████████| 80/80 [00:59<00:00,  1.35it/s]\n",
      "Val IoU: 0.26275: 100%|██████████| 3/3 [00:02<00:00,  1.09it/s]\n"
     ]
    },
    {
     "name": "stdout",
     "output_type": "stream",
     "text": [
      "Epoch 46:\n"
     ]
    },
    {
     "name": "stderr",
     "output_type": "stream",
     "text": [
      "Loss: 2.16616: 100%|██████████| 80/80 [00:45<00:00,  1.76it/s]\n",
      "Val IoU: 0.26560: 100%|██████████| 3/3 [00:02<00:00,  1.24it/s]\n"
     ]
    },
    {
     "name": "stdout",
     "output_type": "stream",
     "text": [
      "Epoch 47:\n"
     ]
    },
    {
     "name": "stderr",
     "output_type": "stream",
     "text": [
      "Loss: 2.10067: 100%|██████████| 80/80 [00:40<00:00,  1.98it/s]\n",
      "Val IoU: 0.26744: 100%|██████████| 3/3 [00:02<00:00,  1.28it/s]\n"
     ]
    },
    {
     "name": "stdout",
     "output_type": "stream",
     "text": [
      "Epoch 48:\n"
     ]
    },
    {
     "name": "stderr",
     "output_type": "stream",
     "text": [
      "Loss: 2.07890: 100%|██████████| 80/80 [00:40<00:00,  2.00it/s]\n",
      "Val IoU: 0.27405: 100%|██████████| 3/3 [00:02<00:00,  1.20it/s]\n"
     ]
    },
    {
     "name": "stdout",
     "output_type": "stream",
     "text": [
      "Epoch 49:\n"
     ]
    },
    {
     "name": "stderr",
     "output_type": "stream",
     "text": [
      "Loss: 2.01665: 100%|██████████| 80/80 [00:59<00:00,  1.34it/s]\n",
      "Val IoU: 0.25847: 100%|██████████| 3/3 [00:02<00:00,  1.10it/s]\n"
     ]
    },
    {
     "name": "stdout",
     "output_type": "stream",
     "text": [
      "Epoch 50:\n"
     ]
    },
    {
     "name": "stderr",
     "output_type": "stream",
     "text": [
      "Loss: 2.02865: 100%|██████████| 80/80 [00:47<00:00,  1.69it/s]\n",
      "Val IoU: 0.25948: 100%|██████████| 3/3 [00:02<00:00,  1.15it/s]\n"
     ]
    },
    {
     "name": "stdout",
     "output_type": "stream",
     "text": [
      "Epoch 51:\n"
     ]
    },
    {
     "name": "stderr",
     "output_type": "stream",
     "text": [
      "Loss: 1.98661: 100%|██████████| 80/80 [00:38<00:00,  2.08it/s]\n",
      "Val IoU: 0.27641: 100%|██████████| 3/3 [00:02<00:00,  1.26it/s]\n"
     ]
    },
    {
     "name": "stdout",
     "output_type": "stream",
     "text": [
      "Epoch 52:\n"
     ]
    },
    {
     "name": "stderr",
     "output_type": "stream",
     "text": [
      "Loss: 2.00400: 100%|██████████| 80/80 [00:40<00:00,  1.95it/s]\n",
      "Val IoU: 0.25930: 100%|██████████| 3/3 [00:02<00:00,  1.18it/s]\n"
     ]
    },
    {
     "name": "stdout",
     "output_type": "stream",
     "text": [
      "Epoch 53:\n"
     ]
    },
    {
     "name": "stderr",
     "output_type": "stream",
     "text": [
      "Loss: 1.99090: 100%|██████████| 80/80 [00:40<00:00,  1.98it/s]\n",
      "Val IoU: 0.27741: 100%|██████████| 3/3 [00:02<00:00,  1.27it/s]\n"
     ]
    },
    {
     "name": "stdout",
     "output_type": "stream",
     "text": [
      "Epoch 54:\n"
     ]
    },
    {
     "name": "stderr",
     "output_type": "stream",
     "text": [
      "Loss: 2.00063: 100%|██████████| 80/80 [00:40<00:00,  1.97it/s]\n",
      "Val IoU: 0.25693: 100%|██████████| 3/3 [00:02<00:00,  1.24it/s]\n"
     ]
    },
    {
     "name": "stdout",
     "output_type": "stream",
     "text": [
      "Epoch 55:\n"
     ]
    },
    {
     "name": "stderr",
     "output_type": "stream",
     "text": [
      "Loss: 1.99505: 100%|██████████| 80/80 [00:40<00:00,  2.00it/s]\n",
      "Val IoU: 0.26554: 100%|██████████| 3/3 [00:02<00:00,  1.28it/s]\n"
     ]
    },
    {
     "name": "stdout",
     "output_type": "stream",
     "text": [
      "Epoch 56:\n"
     ]
    },
    {
     "name": "stderr",
     "output_type": "stream",
     "text": [
      "Loss: 1.96399: 100%|██████████| 80/80 [00:40<00:00,  1.99it/s]\n",
      "Val IoU: 0.26758: 100%|██████████| 3/3 [00:02<00:00,  1.29it/s]\n"
     ]
    },
    {
     "name": "stdout",
     "output_type": "stream",
     "text": [
      "Epoch 57:\n"
     ]
    },
    {
     "name": "stderr",
     "output_type": "stream",
     "text": [
      "Loss: 2.00669: 100%|██████████| 80/80 [00:39<00:00,  2.01it/s]\n",
      "Val IoU: 0.25873: 100%|██████████| 3/3 [00:02<00:00,  1.21it/s]\n"
     ]
    },
    {
     "name": "stdout",
     "output_type": "stream",
     "text": [
      "Epoch 58:\n"
     ]
    },
    {
     "name": "stderr",
     "output_type": "stream",
     "text": [
      "Loss: 2.01640: 100%|██████████| 80/80 [00:39<00:00,  2.03it/s]\n",
      "Val IoU: 0.25830: 100%|██████████| 3/3 [00:02<00:00,  1.13it/s]\n"
     ]
    },
    {
     "name": "stdout",
     "output_type": "stream",
     "text": [
      "Epoch 59:\n"
     ]
    },
    {
     "name": "stderr",
     "output_type": "stream",
     "text": [
      "Loss: 2.06292: 100%|██████████| 80/80 [00:39<00:00,  2.00it/s]\n",
      "Val IoU: 0.27985: 100%|██████████| 3/3 [00:02<00:00,  1.17it/s]\n"
     ]
    },
    {
     "name": "stdout",
     "output_type": "stream",
     "text": [
      "Epoch 60:\n"
     ]
    },
    {
     "name": "stderr",
     "output_type": "stream",
     "text": [
      "Loss: 1.96663: 100%|██████████| 80/80 [00:40<00:00,  1.97it/s]\n",
      "Val IoU: 0.25856: 100%|██████████| 3/3 [00:02<00:00,  1.26it/s]\n"
     ]
    },
    {
     "name": "stdout",
     "output_type": "stream",
     "text": [
      "Epoch 61:\n"
     ]
    },
    {
     "name": "stderr",
     "output_type": "stream",
     "text": [
      "Loss: 1.97072: 100%|██████████| 80/80 [00:39<00:00,  2.02it/s]\n",
      "Val IoU: 0.24776: 100%|██████████| 3/3 [00:02<00:00,  1.22it/s]\n"
     ]
    },
    {
     "name": "stdout",
     "output_type": "stream",
     "text": [
      "Epoch 62:\n"
     ]
    },
    {
     "name": "stderr",
     "output_type": "stream",
     "text": [
      "Loss: 1.94758: 100%|██████████| 80/80 [00:39<00:00,  2.01it/s]\n",
      "Val IoU: 0.25137: 100%|██████████| 3/3 [00:02<00:00,  1.29it/s]\n"
     ]
    },
    {
     "name": "stdout",
     "output_type": "stream",
     "text": [
      "Epoch 63:\n"
     ]
    },
    {
     "name": "stderr",
     "output_type": "stream",
     "text": [
      "Loss: 1.96067: 100%|██████████| 80/80 [00:40<00:00,  1.99it/s]\n",
      "Val IoU: 0.26004: 100%|██████████| 3/3 [00:02<00:00,  1.25it/s]\n"
     ]
    },
    {
     "name": "stdout",
     "output_type": "stream",
     "text": [
      "Epoch 64:\n"
     ]
    },
    {
     "name": "stderr",
     "output_type": "stream",
     "text": [
      "Loss: 1.99261: 100%|██████████| 80/80 [00:40<00:00,  2.00it/s]\n",
      "Val IoU: 0.25762: 100%|██████████| 3/3 [00:02<00:00,  1.29it/s]\n"
     ]
    },
    {
     "name": "stdout",
     "output_type": "stream",
     "text": [
      "Epoch 65:\n"
     ]
    },
    {
     "name": "stderr",
     "output_type": "stream",
     "text": [
      "Loss: 2.10904: 100%|██████████| 80/80 [00:40<00:00,  1.95it/s]\n",
      "Val IoU: 0.25880: 100%|██████████| 3/3 [00:02<00:00,  1.25it/s]\n"
     ]
    },
    {
     "name": "stdout",
     "output_type": "stream",
     "text": [
      "Epoch 66:\n"
     ]
    },
    {
     "name": "stderr",
     "output_type": "stream",
     "text": [
      "Loss: 2.12433: 100%|██████████| 80/80 [00:40<00:00,  1.96it/s]\n",
      "Val IoU: 0.27889: 100%|██████████| 3/3 [00:02<00:00,  1.27it/s]\n"
     ]
    },
    {
     "name": "stdout",
     "output_type": "stream",
     "text": [
      "Epoch 67:\n"
     ]
    },
    {
     "name": "stderr",
     "output_type": "stream",
     "text": [
      "Loss: 1.99201: 100%|██████████| 80/80 [00:40<00:00,  1.96it/s]\n",
      "Val IoU: 0.28043: 100%|██████████| 3/3 [00:02<00:00,  1.26it/s]\n"
     ]
    },
    {
     "name": "stdout",
     "output_type": "stream",
     "text": [
      "Epoch 68:\n"
     ]
    },
    {
     "name": "stderr",
     "output_type": "stream",
     "text": [
      "Loss: 1.94099: 100%|██████████| 80/80 [00:41<00:00,  1.91it/s]\n",
      "Val IoU: 0.23840: 100%|██████████| 3/3 [00:02<00:00,  1.25it/s]\n"
     ]
    },
    {
     "name": "stdout",
     "output_type": "stream",
     "text": [
      "Epoch 69:\n"
     ]
    },
    {
     "name": "stderr",
     "output_type": "stream",
     "text": [
      "Loss: 2.00477: 100%|██████████| 80/80 [00:39<00:00,  2.01it/s]\n",
      "Val IoU: 0.26351: 100%|██████████| 3/3 [00:02<00:00,  1.26it/s]\n"
     ]
    },
    {
     "name": "stdout",
     "output_type": "stream",
     "text": [
      "Epoch 70:\n"
     ]
    },
    {
     "name": "stderr",
     "output_type": "stream",
     "text": [
      "Loss: 1.97853: 100%|██████████| 80/80 [00:40<00:00,  1.96it/s]\n",
      "Val IoU: 0.27363: 100%|██████████| 3/3 [00:02<00:00,  1.27it/s]\n"
     ]
    },
    {
     "name": "stdout",
     "output_type": "stream",
     "text": [
      "Epoch 71:\n"
     ]
    },
    {
     "name": "stderr",
     "output_type": "stream",
     "text": [
      "Loss: 1.92067: 100%|██████████| 80/80 [00:41<00:00,  1.93it/s]\n",
      "Val IoU: 0.24269: 100%|██████████| 3/3 [00:02<00:00,  1.24it/s]\n"
     ]
    },
    {
     "name": "stdout",
     "output_type": "stream",
     "text": [
      "Epoch 72:\n"
     ]
    },
    {
     "name": "stderr",
     "output_type": "stream",
     "text": [
      "Loss: 1.88007: 100%|██████████| 80/80 [00:39<00:00,  2.01it/s]\n",
      "Val IoU: 0.27603: 100%|██████████| 3/3 [00:02<00:00,  1.29it/s]\n"
     ]
    },
    {
     "name": "stdout",
     "output_type": "stream",
     "text": [
      "Epoch 73:\n"
     ]
    },
    {
     "name": "stderr",
     "output_type": "stream",
     "text": [
      "Loss: 1.83806: 100%|██████████| 80/80 [00:40<00:00,  1.99it/s]\n",
      "Val IoU: 0.27297: 100%|██████████| 3/3 [00:02<00:00,  1.15it/s]\n"
     ]
    },
    {
     "name": "stdout",
     "output_type": "stream",
     "text": [
      "Epoch 74:\n"
     ]
    },
    {
     "name": "stderr",
     "output_type": "stream",
     "text": [
      "Loss: 1.87163: 100%|██████████| 80/80 [00:40<00:00,  1.99it/s]\n",
      "Val IoU: 0.25580: 100%|██████████| 3/3 [00:02<00:00,  1.24it/s]\n"
     ]
    },
    {
     "name": "stdout",
     "output_type": "stream",
     "text": [
      "Epoch 75:\n"
     ]
    },
    {
     "name": "stderr",
     "output_type": "stream",
     "text": [
      "Loss: 1.92426: 100%|██████████| 80/80 [00:40<00:00,  1.98it/s]\n",
      "Val IoU: 0.29480: 100%|██████████| 3/3 [00:02<00:00,  1.25it/s]\n"
     ]
    },
    {
     "name": "stdout",
     "output_type": "stream",
     "text": [
      "Epoch 76:\n"
     ]
    },
    {
     "name": "stderr",
     "output_type": "stream",
     "text": [
      "Loss: 1.99225: 100%|██████████| 80/80 [00:48<00:00,  1.65it/s]\n",
      "Val IoU: 0.28754: 100%|██████████| 3/3 [00:02<00:00,  1.12it/s]\n"
     ]
    },
    {
     "name": "stdout",
     "output_type": "stream",
     "text": [
      "Epoch 77:\n"
     ]
    },
    {
     "name": "stderr",
     "output_type": "stream",
     "text": [
      "Loss: 2.42560: 100%|██████████| 80/80 [00:39<00:00,  2.01it/s]\n",
      "Val IoU: 0.24356: 100%|██████████| 3/3 [00:02<00:00,  1.21it/s]\n"
     ]
    },
    {
     "name": "stdout",
     "output_type": "stream",
     "text": [
      "Epoch 78:\n"
     ]
    },
    {
     "name": "stderr",
     "output_type": "stream",
     "text": [
      "Loss: 2.06081: 100%|██████████| 80/80 [00:39<00:00,  2.01it/s]\n",
      "Val IoU: 0.26273: 100%|██████████| 3/3 [00:02<00:00,  1.20it/s]\n"
     ]
    },
    {
     "name": "stdout",
     "output_type": "stream",
     "text": [
      "Epoch 79:\n"
     ]
    },
    {
     "name": "stderr",
     "output_type": "stream",
     "text": [
      "Loss: 2.02695: 100%|██████████| 80/80 [00:48<00:00,  1.65it/s]\n",
      "Val IoU: 0.26215: 100%|██████████| 3/3 [00:02<00:00,  1.26it/s]\n"
     ]
    },
    {
     "name": "stdout",
     "output_type": "stream",
     "text": [
      "Epoch 80:\n"
     ]
    },
    {
     "name": "stderr",
     "output_type": "stream",
     "text": [
      "Loss: 1.93318: 100%|██████████| 80/80 [00:40<00:00,  1.97it/s]\n",
      "Val IoU: 0.26522: 100%|██████████| 3/3 [00:02<00:00,  1.19it/s]\n"
     ]
    },
    {
     "name": "stdout",
     "output_type": "stream",
     "text": [
      "Epoch 81:\n"
     ]
    },
    {
     "name": "stderr",
     "output_type": "stream",
     "text": [
      "Loss: 1.89328: 100%|██████████| 80/80 [00:41<00:00,  1.94it/s]\n",
      "Val IoU: 0.28490: 100%|██████████| 3/3 [00:02<00:00,  1.27it/s]\n"
     ]
    },
    {
     "name": "stdout",
     "output_type": "stream",
     "text": [
      "Epoch 82:\n"
     ]
    },
    {
     "name": "stderr",
     "output_type": "stream",
     "text": [
      "Loss: 1.86038: 100%|██████████| 80/80 [00:39<00:00,  2.02it/s]\n",
      "Val IoU: 0.27586: 100%|██████████| 3/3 [00:02<00:00,  1.17it/s]\n"
     ]
    },
    {
     "name": "stdout",
     "output_type": "stream",
     "text": [
      "Epoch 83:\n"
     ]
    },
    {
     "name": "stderr",
     "output_type": "stream",
     "text": [
      "Loss: 1.87580: 100%|██████████| 80/80 [00:39<00:00,  2.02it/s]\n",
      "Val IoU: 0.24920: 100%|██████████| 3/3 [00:02<00:00,  1.17it/s]\n"
     ]
    },
    {
     "name": "stdout",
     "output_type": "stream",
     "text": [
      "Epoch 84:\n"
     ]
    },
    {
     "name": "stderr",
     "output_type": "stream",
     "text": [
      "Loss: 1.82788: 100%|██████████| 80/80 [00:40<00:00,  1.96it/s]\n",
      "Val IoU: 0.27432: 100%|██████████| 3/3 [00:02<00:00,  1.20it/s]\n"
     ]
    },
    {
     "name": "stdout",
     "output_type": "stream",
     "text": [
      "Epoch 85:\n"
     ]
    },
    {
     "name": "stderr",
     "output_type": "stream",
     "text": [
      "Loss: 1.85676: 100%|██████████| 80/80 [00:41<00:00,  1.93it/s]\n",
      "Val IoU: 0.27050: 100%|██████████| 3/3 [00:02<00:00,  1.26it/s]\n"
     ]
    },
    {
     "name": "stdout",
     "output_type": "stream",
     "text": [
      "Epoch 86:\n"
     ]
    },
    {
     "name": "stderr",
     "output_type": "stream",
     "text": [
      "Loss: 1.83702: 100%|██████████| 80/80 [00:40<00:00,  1.97it/s]\n",
      "Val IoU: 0.26791: 100%|██████████| 3/3 [00:02<00:00,  1.24it/s]\n"
     ]
    },
    {
     "name": "stdout",
     "output_type": "stream",
     "text": [
      "Epoch 87:\n"
     ]
    },
    {
     "name": "stderr",
     "output_type": "stream",
     "text": [
      "Loss: 1.84577: 100%|██████████| 80/80 [00:40<00:00,  1.96it/s]\n",
      "Val IoU: 0.25997: 100%|██████████| 3/3 [00:02<00:00,  1.24it/s]\n"
     ]
    },
    {
     "name": "stdout",
     "output_type": "stream",
     "text": [
      "Epoch 88:\n"
     ]
    },
    {
     "name": "stderr",
     "output_type": "stream",
     "text": [
      "Loss: 1.93932: 100%|██████████| 80/80 [00:40<00:00,  1.97it/s]\n",
      "Val IoU: 0.26920: 100%|██████████| 3/3 [00:02<00:00,  1.29it/s]\n"
     ]
    },
    {
     "name": "stdout",
     "output_type": "stream",
     "text": [
      "Epoch 89:\n"
     ]
    },
    {
     "name": "stderr",
     "output_type": "stream",
     "text": [
      "Loss: 1.93819: 100%|██████████| 80/80 [00:39<00:00,  2.02it/s]\n",
      "Val IoU: 0.27047: 100%|██████████| 3/3 [00:02<00:00,  1.23it/s]\n"
     ]
    },
    {
     "name": "stdout",
     "output_type": "stream",
     "text": [
      "Epoch 90:\n"
     ]
    },
    {
     "name": "stderr",
     "output_type": "stream",
     "text": [
      "Loss: 1.89871: 100%|██████████| 80/80 [00:40<00:00,  2.00it/s]\n",
      "Val IoU: 0.29151: 100%|██████████| 3/3 [00:02<00:00,  1.32it/s]\n"
     ]
    },
    {
     "name": "stdout",
     "output_type": "stream",
     "text": [
      "Epoch 91:\n"
     ]
    },
    {
     "name": "stderr",
     "output_type": "stream",
     "text": [
      "Loss: 1.86811: 100%|██████████| 80/80 [00:40<00:00,  1.99it/s]\n",
      "Val IoU: 0.25961: 100%|██████████| 3/3 [00:02<00:00,  1.27it/s]\n"
     ]
    },
    {
     "name": "stdout",
     "output_type": "stream",
     "text": [
      "Epoch 92:\n"
     ]
    },
    {
     "name": "stderr",
     "output_type": "stream",
     "text": [
      "Loss: 1.83183: 100%|██████████| 80/80 [00:40<00:00,  1.97it/s]\n",
      "Val IoU: 0.26337: 100%|██████████| 3/3 [00:02<00:00,  1.24it/s]\n"
     ]
    },
    {
     "name": "stdout",
     "output_type": "stream",
     "text": [
      "Epoch 93:\n"
     ]
    },
    {
     "name": "stderr",
     "output_type": "stream",
     "text": [
      "Loss: 1.84060: 100%|██████████| 80/80 [00:40<00:00,  1.96it/s]\n",
      "Val IoU: 0.24646: 100%|██████████| 3/3 [00:02<00:00,  1.27it/s]\n"
     ]
    },
    {
     "name": "stdout",
     "output_type": "stream",
     "text": [
      "Epoch 94:\n"
     ]
    },
    {
     "name": "stderr",
     "output_type": "stream",
     "text": [
      "Loss: 1.97882: 100%|██████████| 80/80 [00:40<00:00,  1.99it/s]\n",
      "Val IoU: 0.25572: 100%|██████████| 3/3 [00:02<00:00,  1.26it/s]\n"
     ]
    },
    {
     "name": "stdout",
     "output_type": "stream",
     "text": [
      "Epoch 95:\n"
     ]
    },
    {
     "name": "stderr",
     "output_type": "stream",
     "text": [
      "Loss: 1.92106: 100%|██████████| 80/80 [00:40<00:00,  1.96it/s]\n",
      "Val IoU: 0.24983: 100%|██████████| 3/3 [00:02<00:00,  1.27it/s]\n"
     ]
    },
    {
     "name": "stdout",
     "output_type": "stream",
     "text": [
      "Epoch 96:\n"
     ]
    },
    {
     "name": "stderr",
     "output_type": "stream",
     "text": [
      "Loss: 1.82340: 100%|██████████| 80/80 [00:39<00:00,  2.02it/s]\n",
      "Val IoU: 0.26764: 100%|██████████| 3/3 [00:02<00:00,  1.30it/s]\n"
     ]
    },
    {
     "name": "stdout",
     "output_type": "stream",
     "text": [
      "Epoch 97:\n"
     ]
    },
    {
     "name": "stderr",
     "output_type": "stream",
     "text": [
      "Loss: 2.05946: 100%|██████████| 80/80 [00:40<00:00,  1.96it/s]\n",
      "Val IoU: 0.24699: 100%|██████████| 3/3 [00:02<00:00,  1.19it/s]\n"
     ]
    },
    {
     "name": "stdout",
     "output_type": "stream",
     "text": [
      "Epoch 98:\n"
     ]
    },
    {
     "name": "stderr",
     "output_type": "stream",
     "text": [
      "Loss: 1.88961: 100%|██████████| 80/80 [00:40<00:00,  1.99it/s]\n",
      "Val IoU: 0.27684: 100%|██████████| 3/3 [00:02<00:00,  1.23it/s]\n"
     ]
    },
    {
     "name": "stdout",
     "output_type": "stream",
     "text": [
      "Epoch 99:\n"
     ]
    },
    {
     "name": "stderr",
     "output_type": "stream",
     "text": [
      "Loss: 1.85437: 100%|██████████| 80/80 [00:39<00:00,  2.03it/s]\n",
      "Val IoU: 0.27791: 100%|██████████| 3/3 [00:02<00:00,  1.25it/s]\n"
     ]
    },
    {
     "name": "stdout",
     "output_type": "stream",
     "text": [
      "Epoch 100:\n"
     ]
    },
    {
     "name": "stderr",
     "output_type": "stream",
     "text": [
      "Loss: 1.85793: 100%|██████████| 80/80 [00:41<00:00,  1.94it/s]\n",
      "Val IoU: 0.26234: 100%|██████████| 3/3 [00:02<00:00,  1.24it/s]\n"
     ]
    }
   ],
   "source": [
    "optimizer = torch.optim.Adam(model.parameters(), lr=0.00001)\n",
    "scheduler = torch.optim.lr_scheduler.OneCycleLR(optimizer, max_lr=0.005, steps_per_epoch=len(train_loader),\n",
    "                                                   epochs=15)\n",
    "\n",
    "monitor = MetricMonitor(float_precision=5)\n",
    "\n",
    "num_epochs = 100\n",
    "for epoch in range(num_epochs):\n",
    "    print('Epoch '+str(epoch+1)+':')\n",
    "    train_one_epoch(model, optimizer, train_loader, device)\n",
    "    monitor.store('train')\n",
    "    scheduler.step()\n",
    "    evaluate(model, val_loader, device)\n",
    "    monitor.store('val')"
   ]
  },
  {
   "cell_type": "code",
   "execution_count": 11,
   "metadata": {
    "tags": []
   },
   "outputs": [
    {
     "data": {
      "image/png": "[encoded data removed]",
      "text/plain": [
       "<Figure size 1000x1000 with 2 Axes>"
      ]
     },
     "metadata": {},
     "output_type": "display_data"
    }
   ],
   "source": [
    "fig, axs = plt.subplots(2, figsize=(10,10))\n",
    "\n",
    "axs[0].plot(monitor.history['Loss']['train'], label='Train Loss')\n",
    "axs[0].set_title('Train Loss')\n",
    "axs[0].set_xlabel('Epochs')\n",
    "axs[0].set_ylabel('Loss')\n",
    "\n",
    "axs[1].plot(monitor.history['Val IoU']['val'], label='Val IoU')\n",
    "axs[1].set_title('Validation IoU')\n",
    "axs[1].set_xlabel('Epochs')\n",
    "axs[1].set_ylabel('IoU')\n",
    "\n",
    "for ax in axs:\n",
    "    ax.legend()"
   ]
  },
  {
   "cell_type": "code",
   "execution_count": 12,
   "metadata": {
    "tags": []
   },
   "outputs": [],
   "source": [
    "torch.save(model.state_dict(), \"ssdlite_weights.pth\")"
   ]
  },
  {
   "cell_type": "code",
   "execution_count": 13,
   "metadata": {
    "id": "118yOuTqJJ6U",
    "tags": []
   },
   "outputs": [
    {
     "data": {
      "text/plain": [
       "(-0.5, 479.5, 359.5, -0.5)"
      ]
     },
     "execution_count": 13,
     "metadata": {},
     "output_type": "execute_result"
    },
    {
     "data": {
      "image/png": "[encoded data removed]",
      "text/plain": [
       "<Figure size 2000x1000 with 2 Axes>"
      ]
     },
     "metadata": {},
     "output_type": "display_data"
    }
   ],
   "source": [
    "import xml.etree.ElementTree as ET\n",
    "from torchvision import transforms\n",
    "import cv2\n",
    "import matplotlib.pyplot as plt\n",
    "from torchvision.transforms import ToPILImage\n",
    "\n",
    "model.eval()\n",
    "\n",
    "img_dir = 'valid'\n",
    "img_list = list(sorted(os.listdir(img_dir)))\n",
    "img_path = img_dir+'/'+img_list[3]\n",
    "\n",
    "\n",
    "def get_test_transform():\n",
    "    transform = A.Compose([\n",
    "        A.Normalize(mean=(0.485, 0.456, 0.406), std=(0.229, 0.224, 0.225)),\n",
    "        ToTensorV2()\n",
    "    ])\n",
    "    return transform\n",
    "\n",
    "image = Image.open(img_path)\n",
    "transform = get_test_transform()\n",
    "transformed_image = transform(image=np.array(image))['image'].unsqueeze(0)\n",
    "\n",
    "\n",
    "with torch.no_grad():\n",
    "    prediction = model(transformed_image.to(device))\n",
    "\n",
    "annot_dir = 'valid_xml'\n",
    "annot_path = annot_dir+'/'+img_list[3].replace('.jpg', '.xml')\n",
    "tree = ET.parse(annot_path)\n",
    "root = tree.getroot()\n",
    "\n",
    "\n",
    "fig, axs = plt.subplots(1, 2, figsize=(20,10))\n",
    "\n",
    "image_true_boxes = cv2.imread(img_path)\n",
    "\n",
    "for obj in root.findall('object'):\n",
    "    bbox = obj.find('bndbox')\n",
    "    x1, y1, x2, y2 = int(bbox.find('xmin').text), int(bbox.find('ymin').text), int(bbox.find('xmax').text), int(bbox.find('ymax').text)\n",
    "    cv2.rectangle(image_true_boxes, (x1, y1), (x2, y2), (0, 255, 0), 2)\n",
    "\n",
    "axs[0].imshow(cv2.cvtColor(image_true_boxes, cv2.COLOR_BGR2RGB))\n",
    "axs[0].set_title('True Boxes')\n",
    "axs[0].axis('off')\n",
    "\n",
    "\n",
    "image_pred_boxes = cv2.imread(img_path)\n",
    "\n",
    "for box, label, score in zip(prediction[0]['boxes'], prediction[0]['labels'], prediction[0]['scores']):\n",
    "    if score > 0.5:\n",
    "        x1, y1, x2, y2 = box\n",
    "        x1, y1, x2, y2 = int(x1), int(y1), int(x2), int(y2)\n",
    "        cv2.rectangle(image_pred_boxes, (x1, y1), (x2, y2), (255, 0, 0), 2)\n",
    "\n",
    "axs[1].imshow(cv2.cvtColor(image_pred_boxes, cv2.COLOR_BGR2RGB))\n",
    "axs[1].set_title('Predicted Boxes')\n",
    "axs[1].axis('off')"
   ]
  },
  {
   "cell_type": "code",
   "execution_count": 14,
   "metadata": {
    "tags": []
   },
   "outputs": [
    {
     "data": {
      "text/plain": [
       "[{'boxes': tensor([[2.7384e+01, 1.3502e+02, 9.3783e+01, 2.3132e+02],\n",
       "          [4.1695e+02, 5.2371e+01, 4.7856e+02, 2.2988e+02],\n",
       "          [4.4612e+02, 2.3452e+02, 4.8000e+02, 2.6064e+02],\n",
       "          [4.5423e+02, 2.3459e+02, 4.8000e+02, 2.7518e+02],\n",
       "          [0.0000e+00, 2.7210e+02, 1.8855e+02, 3.1500e+02],\n",
       "          [2.2115e+01, 1.7508e+02, 9.5127e+01, 2.2981e+02],\n",
       "          [3.6917e+02, 5.3154e+01, 4.7777e+02, 2.0253e+02],\n",
       "          [4.5324e+02, 2.1778e+02, 4.8000e+02, 2.5916e+02],\n",
       "          [4.3980e+02, 2.2539e+02, 4.7596e+02, 2.4622e+02],\n",
       "          [1.5421e+02, 0.0000e+00, 2.6701e+02, 2.4484e+01],\n",
       "          [2.2730e+02, 1.3319e+02, 2.6967e+02, 2.1512e+02],\n",
       "          [4.4570e+02, 2.4577e+02, 4.7730e+02, 2.7685e+02],\n",
       "          [2.6332e+02, 2.5197e+02, 3.9840e+02, 3.0863e+02],\n",
       "          [1.1587e+01, 9.6960e+01, 6.1897e+01, 1.8481e+02],\n",
       "          [4.2719e+02, 2.3184e+02, 4.7428e+02, 2.5654e+02],\n",
       "          [4.4124e+02, 6.7212e+01, 4.7982e+02, 2.2544e+02],\n",
       "          [4.4943e+02, 1.4970e+02, 4.8000e+02, 2.4320e+02],\n",
       "          [4.0760e+02, 2.2487e+02, 4.8000e+02, 2.6706e+02],\n",
       "          [1.6133e+01, 2.0036e+02, 5.5181e+01, 2.6539e+02],\n",
       "          [1.6002e+01, 1.2347e+02, 6.5491e+01, 2.0540e+02],\n",
       "          [2.3256e+01, 0.0000e+00, 1.2534e+02, 2.3948e+01],\n",
       "          [6.0869e+01, 0.0000e+00, 1.7182e+02, 2.1715e+01],\n",
       "          [2.7413e+02, 2.2301e+02, 4.2689e+02, 3.0743e+02],\n",
       "          [1.9751e+02, 0.0000e+00, 3.1303e+02, 2.4293e+01],\n",
       "          [6.9380e+00, 2.5720e+02, 1.4371e+02, 3.1230e+02],\n",
       "          [1.8703e+01, 1.4933e+02, 7.3184e+01, 2.4554e+02],\n",
       "          [2.1138e+01, 1.8439e+02, 5.7801e+01, 2.4457e+02],\n",
       "          [4.2151e+02, 2.8926e+02, 4.6499e+02, 3.1083e+02],\n",
       "          [3.4157e+02, 3.1101e+02, 4.7553e+02, 3.5500e+02],\n",
       "          [1.0532e+02, 0.0000e+00, 2.2302e+02, 2.5150e+01],\n",
       "          [3.9766e+02, 2.1130e+02, 4.7851e+02, 2.5245e+02],\n",
       "          [1.3012e+01, 2.1670e+02, 5.5506e+01, 2.8693e+02],\n",
       "          [1.2652e+02, 4.2268e+01, 2.8134e+02, 7.9737e+01],\n",
       "          [3.9368e+01, 1.8961e+02, 7.9127e+01, 2.2253e+02],\n",
       "          [3.4011e+00, 5.5439e+01, 6.9681e+01, 1.6278e+02],\n",
       "          [4.2380e+02, 2.2206e+02, 4.6000e+02, 2.4003e+02],\n",
       "          [4.0552e+02, 1.8511e+02, 4.7784e+02, 2.3301e+02],\n",
       "          [3.1633e+02, 0.0000e+00, 4.3566e+02, 2.7590e+01],\n",
       "          [7.4578e+00, 2.2289e+02, 3.0274e+01, 3.0294e+02],\n",
       "          [5.8987e+01, 2.3202e+02, 1.0636e+02, 3.1482e+02],\n",
       "          [1.2722e+02, 2.2470e+02, 2.4290e+02, 2.7466e+02],\n",
       "          [1.1093e+01, 1.9994e+02, 3.1258e+01, 2.6624e+02],\n",
       "          [2.0219e+01, 1.9571e+02, 8.8474e+01, 2.4559e+02],\n",
       "          [2.3991e+02, 2.4815e+02, 2.7641e+02, 3.0466e+02],\n",
       "          [6.1995e+01, 2.1885e+02, 1.0090e+02, 2.8121e+02],\n",
       "          [2.4543e+02, 0.0000e+00, 3.6280e+02, 2.5603e+01],\n",
       "          [6.6314e+01, 2.4412e+02, 2.0310e+02, 2.9318e+02],\n",
       "          [1.6403e+02, 1.9506e+02, 2.0977e+02, 2.2134e+02],\n",
       "          [4.4738e+02, 1.7777e+02, 4.7271e+02, 2.0037e+02],\n",
       "          [9.4153e+00, 1.8437e+02, 2.8695e+01, 2.4922e+02],\n",
       "          [2.3275e+01, 9.8873e+01, 8.1960e+01, 1.9280e+02],\n",
       "          [1.4523e+00, 1.3460e+02, 2.4232e+01, 2.0815e+02],\n",
       "          [4.2542e+02, 1.7511e+02, 4.7684e+02, 2.5025e+02],\n",
       "          [3.8558e+02, 2.3794e+02, 4.5474e+02, 2.8391e+02],\n",
       "          [4.3540e+02, 2.6756e+02, 4.6977e+02, 2.9777e+02],\n",
       "          [2.3395e+02, 1.8475e+02, 2.7329e+02, 2.5489e+02],\n",
       "          [1.7458e+01, 1.2360e+02, 4.8891e+01, 1.5425e+02],\n",
       "          [4.2055e+02, 2.4359e+02, 4.6651e+02, 2.7215e+02],\n",
       "          [4.5439e+01, 1.8842e+02, 1.1717e+02, 2.2476e+02],\n",
       "          [2.5227e+02, 2.5240e+02, 2.8853e+02, 3.0923e+02],\n",
       "          [3.6312e+02, 0.0000e+00, 4.7228e+02, 2.6814e+01],\n",
       "          [1.6974e+02, 2.2486e+02, 2.6904e+02, 2.7525e+02],\n",
       "          [4.4348e+02, 1.9786e+02, 4.7230e+02, 2.2010e+02],\n",
       "          [1.2131e+02, 1.9389e+02, 1.7704e+02, 2.2125e+02],\n",
       "          [0.0000e+00, 1.0331e+02, 3.2453e+01, 1.3076e+02],\n",
       "          [1.8535e+02, 5.2388e+00, 2.3372e+02, 3.3836e+01],\n",
       "          [9.2121e+01, 1.9258e+02, 1.5068e+02, 2.2081e+02],\n",
       "          [2.6612e+02, 2.7761e+02, 4.1932e+02, 3.1069e+02],\n",
       "          [1.4482e+02, 9.2620e+00, 2.6939e+02, 5.4485e+01],\n",
       "          [7.9689e+01, 1.7249e+02, 1.1708e+02, 2.3453e+02],\n",
       "          [2.3805e+02, 2.1892e+02, 2.7317e+02, 2.7239e+02],\n",
       "          [3.5876e+01, 2.0668e+02, 6.7956e+01, 2.3834e+02],\n",
       "          [1.3760e+02, 2.4958e+01, 2.7574e+02, 6.7289e+01],\n",
       "          [5.9895e+01, 1.9895e+02, 9.8394e+01, 2.6561e+02],\n",
       "          [9.5916e+01, 1.1844e+01, 1.2560e+02, 3.8311e+01],\n",
       "          [3.5343e+02, 2.2212e+02, 4.5509e+02, 2.7308e+02],\n",
       "          [4.4851e+02, 5.6761e+01, 4.8000e+02, 1.7120e+02],\n",
       "          [0.0000e+00, 3.4579e+02, 4.0626e+01, 3.6000e+02],\n",
       "          [4.4207e+02, 1.7974e+02, 4.6652e+02, 1.9655e+02],\n",
       "          [3.7098e-01, 3.1264e+02, 1.5348e+01, 3.2987e+02],\n",
       "          [5.7538e+01, 1.8516e+02, 9.6941e+01, 2.3311e+02],\n",
       "          [1.6069e+00, 9.7817e+01, 2.4501e+01, 1.7032e+02],\n",
       "          [1.5360e+02, 1.7500e+02, 2.1219e+02, 2.0368e+02],\n",
       "          [6.9837e+01, 6.6569e+00, 1.0684e+02, 3.2036e+01],\n",
       "          [9.8102e+01, 2.0739e+02, 1.5215e+02, 2.3597e+02],\n",
       "          [1.6277e+02, 2.1178e+02, 2.1823e+02, 2.4055e+02],\n",
       "          [2.1973e+02, 2.7768e+02, 3.6445e+02, 3.1362e+02],\n",
       "          [4.2133e+02, 1.9363e+02, 4.6484e+02, 2.2246e+02],\n",
       "          [0.0000e+00, 7.8916e+01, 4.0128e+01, 1.1773e+02],\n",
       "          [6.6497e+00, 6.7078e+00, 1.2454e+02, 5.5620e+01],\n",
       "          [4.0250e+02, 3.1384e+02, 4.7745e+02, 3.5008e+02],\n",
       "          [7.3931e+01, 1.5230e+02, 1.2805e+02, 2.2792e+02],\n",
       "          [2.1257e+02, 1.3695e+02, 2.5282e+02, 2.4099e+02],\n",
       "          [4.5439e+01, 2.5670e+02, 2.0087e+02, 3.0575e+02],\n",
       "          [2.4969e+02, 1.9955e+02, 2.9913e+02, 2.6304e+02],\n",
       "          [1.6294e+02, 3.8702e+00, 2.0874e+02, 3.2839e+01],\n",
       "          [7.2997e+01, 1.2589e+01, 9.8464e+01, 3.3449e+01],\n",
       "          [4.1296e+02, 3.3008e+01, 4.7676e+02, 1.3801e+02],\n",
       "          [3.6362e+01, 2.1647e+02, 8.3251e+01, 2.7357e+02],\n",
       "          [2.3397e+02, 2.5352e+02, 3.4456e+02, 3.0780e+02],\n",
       "          [2.5174e+02, 2.3801e+02, 3.4914e+02, 2.9283e+02],\n",
       "          [1.8919e+02, 1.3760e+01, 2.2307e+02, 3.7290e+01],\n",
       "          [1.8361e+02, 2.4159e+02, 2.5940e+02, 2.8114e+02],\n",
       "          [3.2892e+02, 3.3491e+02, 3.7116e+02, 3.5442e+02],\n",
       "          [1.1670e+02, 1.0702e+01, 1.5038e+02, 4.1603e+01],\n",
       "          [2.2327e+01, 1.3555e+02, 6.2446e+01, 1.7472e+02],\n",
       "          [4.2010e+02, 2.6494e+02, 4.6011e+02, 2.9189e+02],\n",
       "          [8.7163e+01, 0.0000e+00, 1.3862e+02, 3.6229e+01],\n",
       "          [1.0366e+02, 2.3997e+02, 2.5837e+02, 2.8387e+02],\n",
       "          [7.3404e+01, 1.8819e+02, 1.4917e+02, 2.2768e+02],\n",
       "          [3.9813e+02, 2.3391e+02, 4.7919e+02, 2.8584e+02],\n",
       "          [4.2743e+02, 2.0831e+02, 4.7763e+02, 2.6625e+02],\n",
       "          [2.4403e+02, 2.3458e+02, 2.9622e+02, 3.0330e+02],\n",
       "          [3.5188e+02, 3.0369e+02, 4.7127e+02, 3.3239e+02],\n",
       "          [3.9845e+02, 1.9425e+02, 4.4816e+02, 2.8835e+02],\n",
       "          [4.3597e+02, 1.9822e+02, 4.6030e+02, 2.1546e+02],\n",
       "          [1.6678e+02, 1.3083e+01, 1.9791e+02, 3.6498e+01],\n",
       "          [2.5445e+02, 2.1799e+02, 2.9359e+02, 2.7659e+02],\n",
       "          [3.6157e+02, 2.8643e+02, 4.3999e+02, 3.1198e+02],\n",
       "          [0.0000e+00, 6.4460e+01, 4.5838e+01, 1.0064e+02],\n",
       "          [0.0000e+00, 6.9598e+01, 2.5413e+01, 1.5635e+02],\n",
       "          [2.0079e+02, 2.0489e+02, 2.7017e+02, 2.5067e+02],\n",
       "          [1.4214e+02, 1.1684e+01, 1.7355e+02, 3.7324e+01],\n",
       "          [4.1363e+02, 1.6636e+02, 4.8000e+02, 2.1149e+02],\n",
       "          [4.2371e+02, 3.0362e+02, 4.7290e+02, 3.2622e+02],\n",
       "          [1.4433e+01, 2.4022e+02, 1.8829e+02, 3.1712e+02],\n",
       "          [2.5386e+02, 2.2103e+02, 3.3713e+02, 2.6885e+02],\n",
       "          [1.8249e+02, 7.9285e+00, 3.0860e+02, 5.6016e+01],\n",
       "          [2.9887e+02, 1.2202e+02, 3.4345e+02, 2.0080e+02],\n",
       "          [9.0624e+01, 2.5576e+02, 2.4843e+02, 3.0065e+02]], device='cuda:0'),\n",
       "  'scores': tensor([0.9807, 0.1021, 0.0866, 0.0766, 0.0749, 0.0742, 0.0681, 0.0674, 0.0659,\n",
       "          0.0643, 0.0631, 0.0631, 0.0628, 0.0606, 0.0601, 0.0599, 0.0598, 0.0590,\n",
       "          0.0586, 0.0578, 0.0576, 0.0575, 0.0573, 0.0570, 0.0559, 0.0539, 0.0538,\n",
       "          0.0537, 0.0535, 0.0532, 0.0531, 0.0530, 0.0528, 0.0526, 0.0525, 0.0525,\n",
       "          0.0524, 0.0518, 0.0518, 0.0515, 0.0513, 0.0505, 0.0502, 0.0498, 0.0490,\n",
       "          0.0490, 0.0487, 0.0486, 0.0486, 0.0486, 0.0486, 0.0483, 0.0483, 0.0482,\n",
       "          0.0481, 0.0476, 0.0476, 0.0476, 0.0474, 0.0474, 0.0472, 0.0472, 0.0470,\n",
       "          0.0469, 0.0469, 0.0465, 0.0454, 0.0453, 0.0450, 0.0449, 0.0449, 0.0447,\n",
       "          0.0446, 0.0442, 0.0442, 0.0440, 0.0440, 0.0439, 0.0437, 0.0436, 0.0434,\n",
       "          0.0434, 0.0434, 0.0433, 0.0433, 0.0431, 0.0430, 0.0428, 0.0428, 0.0428,\n",
       "          0.0426, 0.0425, 0.0424, 0.0424, 0.0424, 0.0424, 0.0423, 0.0423, 0.0422,\n",
       "          0.0422, 0.0421, 0.0420, 0.0418, 0.0418, 0.0417, 0.0417, 0.0416, 0.0416,\n",
       "          0.0416, 0.0416, 0.0416, 0.0415, 0.0414, 0.0413, 0.0411, 0.0411, 0.0410,\n",
       "          0.0410, 0.0409, 0.0409, 0.0408, 0.0408, 0.0407, 0.0406, 0.0405, 0.0404,\n",
       "          0.0403, 0.0403, 0.0403, 0.0402], device='cuda:0'),\n",
       "  'labels': tensor([1, 1, 1, 1, 1, 1, 1, 1, 1, 1, 1, 1, 1, 1, 1, 1, 1, 1, 1, 1, 1, 1, 1, 1,\n",
       "          1, 1, 1, 1, 1, 1, 1, 1, 1, 1, 1, 1, 1, 1, 1, 1, 1, 1, 1, 1, 1, 1, 1, 1,\n",
       "          1, 1, 1, 1, 1, 1, 1, 1, 1, 1, 1, 1, 1, 1, 1, 1, 1, 1, 1, 1, 1, 1, 1, 1,\n",
       "          1, 1, 1, 1, 1, 1, 1, 1, 1, 1, 1, 1, 1, 1, 1, 1, 1, 1, 1, 1, 1, 1, 1, 1,\n",
       "          1, 1, 1, 1, 1, 1, 1, 1, 1, 1, 1, 1, 1, 1, 1, 1, 1, 1, 1, 1, 1, 1, 1, 1,\n",
       "          1, 1, 1, 1, 1, 1, 1, 1, 1, 1], device='cuda:0')}]"
      ]
     },
     "execution_count": 14,
     "metadata": {},
     "output_type": "execute_result"
    }
   ],
   "source": [
    "prediction"
   ]
  }
 ],
 "metadata": {
  "accelerator": "GPU",
  "colab": {
   "gpuType": "T4",
   "provenance": []
  },
  "kernelspec": {
   "display_name": "Python 3 (ipykernel)",
   "language": "python",
   "name": "python3"
  },
  "language_info": {
   "codemirror_mode": {
    "name": "ipython",
    "version": 3
   },
   "file_extension": ".py",
   "mimetype": "text/x-python",
   "name": "python",
   "nbconvert_exporter": "python",
   "pygments_lexer": "ipython3",
   "version": "3.9.16"
  }
 },
 "nbformat": 4,
 "nbformat_minor": 4
}
